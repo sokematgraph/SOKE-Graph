{
  "cells": [
    {
      "cell_type": "markdown",
      "id": "751b88d5",
      "metadata": {},
      "source": [
        "### 📦 Installing Required Packages\n",
        "\n",
        "To ensure all dependencies for the project are installed, we use the following command:"
      ]
    },
    {
      "cell_type": "code",
      "execution_count": null,
      "id": "8a91763d",
      "metadata": {},
      "outputs": [],
      "source": [
        "!pip install -r requirements.txt"
      ]
    },
    {
      "cell_type": "markdown",
      "id": "0575c78a",
      "metadata": {
        "id": "0575c78a"
      },
      "source": [
        "# Import Required Modules and Classes\n",
        "\n",
        "This block imports all the necessary modules and classes from the `sokegraph` package and other dependencies. These components provide core functionalities such as:\n",
        "\n",
        "- Paper sources (retrieving papers from Semantic Scholar or PDFs)\n",
        "- Paper ranking logic\n",
        "- Knowledge graph management\n",
        "- AI agents (OpenAI, Gemini, Llama)\n",
        "- Ontology updating utilities\n",
        "- Logging utilities\n",
        "- Neo4j knowledge graph interface\n",
        "- JSON handling\n",
        "\n",
        "These imports set up the environment for later steps like fetching papers, ranking them, updating ontologies, and building the knowledge graph.\n"
      ]
    },
    {
      "cell_type": "code",
      "execution_count": 38,
      "id": "d48c387b",
      "metadata": {
        "id": "d48c387b"
      },
      "outputs": [],
      "source": [
        "from sokegraph.base_paper_source import BasePaperSource\n",
        "from sokegraph.semantic_scholar_source import SemanticScholarPaperSource\n",
        "from sokegraph.pdf_paper_source import PDFPaperSource\n",
        "from sokegraph.paper_ranker import PaperRanker\n",
        "from sokegraph.knowledge_graph import KnowledgeGraph\n",
        "from sokegraph.util.logger import LOG\n",
        "from sokegraph.ai_agent import AIAgent\n",
        "from sokegraph.openai_agent import OpenAIAgent\n",
        "from sokegraph.gemini_agent import GeminiAgent\n",
        "from sokegraph.ontology_updater import OntologyUpdater\n",
        "from sokegraph.neo4j_knowledge_graph import Neo4jKnowledgeGraph\n",
        "from sokegraph.llama_agent import LlamaAgent\n",
        "from sokegraph.ollama_agent import OllamaAgent\n",
        "from sokegraph.claude_agent import ClaudeAgent\n",
        "from sokegraph.journal_api_source import JournalApiPaperSource\n",
        "from sokegraph.networkx_knowledge_graph import NetworkXKnowledgeGraph\n",
        "import json"
      ]
    },
    {
      "cell_type": "markdown",
      "id": "88f6c68a",
      "metadata": {
        "id": "88f6c68a"
      },
      "source": [
        "# Initialize and Display the User Interface\n",
        "\n",
        "- The `SOKEGraphUI` class is imported from the `ui_inputs` module.\n",
        "- An instance of `SOKEGraphUI` is created and assigned to `ui`.\n",
        "- The `display_ui()` method is called to render the interactive user interface.\n",
        "\n",
        "> **Note:**  \n",
        "> If you make changes to `ui_inputs.py`, you might need to uncomment the `importlib.reload` lines to reload the module without restarting the notebook.\n"
      ]
    },
    {
      "cell_type": "code",
      "execution_count": null,
      "id": "9c16b2d7",
      "metadata": {
        "id": "9c16b2d7"
      },
      "outputs": [
        {
          "data": {
            "application/vnd.jupyter.widget-view+json": {
              "model_id": "ee86b10387834bff8b80601e8a738556",
              "version_major": 2,
              "version_minor": 0
            },
            "text/plain": [
              "VBox(children=(Dropdown(description='Paper Source:', options=('Select Source', 'Semantic Scholar', 'PDF Zip Fi…"
            ]
          },
          "metadata": {},
          "output_type": "display_data"
        }
      ],
      "source": [
        "import importlib\n",
        "import sokegraph.ui_inputs\n",
        "importlib.reload(sokegraph.ui_inputs)\n",
        "from sokegraph.ui_inputs import SOKEGraphUI\n",
        "\n",
        "\n",
        "# Create UI instance\n",
        "ui = SOKEGraphUI()\n",
        "\n",
        "# Display the UI in the notebook\n",
        "ui.display_ui()\n"
      ]
    },
    {
      "cell_type": "markdown",
      "id": "9d08e6b9",
      "metadata": {
        "id": "9d08e6b9"
      },
      "source": [
        "## Step 0: Setup AI Agent\n",
        "\n",
        "- Logs the start of the full pipeline.\n",
        "- Selects and initializes the AI agent based on the user interface (UI) parameter `AI`.\n",
        "- Supports three AI providers:\n",
        "  - `openAI` initializes an `OpenAIAgent` with the API keys file.\n",
        "  - `gemini` initializes a `GeminiAgent` with the API keys file.\n",
        "  - `llama` initializes a `LlamaAgent` with the API keys file.\n",
        "- Raises an error if an unsupported AI provider is selected.\n",
        "\n",
        "> **Note:**  \n",
        "> Ensure that the API keys file path provided via `ui.params.api_keys_file` is correct and contains valid credentials for the selected AI provider.\n"
      ]
    },
    {
      "cell_type": "code",
      "execution_count": 41,
      "id": "d563fa7c",
      "metadata": {
        "id": "d563fa7c"
      },
      "outputs": [
        {
          "name": "stderr",
          "output_type": "stream",
          "text": [
            "2025-07-15 10:59:29,929 [INFO ]\t🚀 Starting Full Pipeline\n",
            "INFO:sokegraph:🚀 Starting Full Pipeline\n"
          ]
        }
      ],
      "source": [
        "LOG.info(\"🚀 Starting Full Pipeline\")\n",
        "\n",
        "# 0. Setup AI agent\n",
        "ai_tool: AIAgent\n",
        "if ui.params.AI == \"openAI\":\n",
        "    ai_tool = OpenAIAgent(ui.params.api_keys_file)\n",
        "elif ui.params.AI == \"gemini\":\n",
        "    ai_tool = GeminiAgent(ui.params.api_keys_file)\n",
        "elif ui.params.AI == \"llama\":\n",
        "    ai_tool = LlamaAgent(ui.params.api_keys_file)\n",
        "elif ui.params.AI == \"ollama\":\n",
        "    ai_tool = OllamaAgent()\n",
        "elif ui.params.AI == \"claude\":\n",
        "    ai_tool = ClaudeAgent(ui.params.journal_api_key_file)\n",
        "else:\n",
        "    raise ValueError(f\"Unsupported AI provider: {ui.params.AI}\")"
      ]
    },
    {
      "cell_type": "code",
      "execution_count": 42,
      "id": "794c635c",
      "metadata": {},
      "outputs": [
        {
          "data": {
            "text/plain": [
              "<sokegraph.openai_agent.OpenAIAgent at 0x1270e6160>"
            ]
          },
          "execution_count": 42,
          "metadata": {},
          "output_type": "execute_result"
        }
      ],
      "source": [
        "ai_tool"
      ]
    },
    {
      "cell_type": "markdown",
      "id": "413384bf",
      "metadata": {
        "id": "413384bf"
      },
      "source": [
        "## Step 1: Select Paper Source\n",
        "\n",
        "- Based on user input, select the source for retrieving papers:\n",
        "  - If the user specifies `number_papers` and provides a query file (`paper_query_file`), papers are fetched from **Semantic Scholar** using the `SemanticScholarPaperSource` class.\n",
        "  - If the user provides a ZIP file containing PDFs (`pdfs_file`) without specifying `number_papers`, papers are fetched from the PDFs using the `PDFPaperSource` class.\n",
        "- Logs errors if:\n",
        "  - The required query file is missing when using Semantic Scholar.\n",
        "  - Both or neither `number_papers` and `pdfs_file` are specified.\n",
        "- Finally, fetches papers from the selected source by calling `fetch_papers()`.\n",
        "\n",
        "> **Important:**  \n",
        "> - Make sure to specify either the number of papers and a query file **or** a PDF ZIP file, but not both.\n",
        "> - The `fetch_papers()` method returns a list of paper metadata dictionaries.\n"
      ]
    },
    {
      "cell_type": "code",
      "execution_count": 43,
      "id": "49f761ca",
      "metadata": {
        "id": "49f761ca"
      },
      "outputs": [
        {
          "name": "stderr",
          "output_type": "stream",
          "text": [
            "2025-07-15 10:59:34,781 [INFO ]\tSearching Semantic Scholar for: Acidic earth abundant catalysts for water splitting\n",
            "INFO:sokegraph:Searching Semantic Scholar for: Acidic earth abundant catalysts for water splitting\n"
          ]
        }
      ],
      "source": [
        "# 1. Select paper source\n",
        "paper_source: BasePaperSource\n",
        "\n",
        "if ui.params.paper_source == \"Semantic Scholar\":\n",
        "    if not ui.params.number_papers or not ui.params.paper_query_file:\n",
        "        LOG.error(\"❌ 'number_papers' and 'paper_query_file' are required for Semantic Scholar source.\")\n",
        "    else:\n",
        "        paper_source = SemanticScholarPaperSource(\n",
        "            num_papers=int(ui.params.number_papers),\n",
        "            query_file=ui.params.paper_query_file,\n",
        "            output_dir=ui.params.output_dir\n",
        "        )\n",
        "\n",
        "elif ui.params.paper_source == \"PDF Zip\":\n",
        "    if not ui.params.pdfs_file:\n",
        "        LOG.error(\"❌ 'pdfs_file' (ZIP file) is required for PDF source.\")\n",
        "    else:\n",
        "        paper_source = PDFPaperSource(\n",
        "            zip_path=ui.params.pdfs_file,\n",
        "            output_dir=ui.params.output_dir\n",
        "        )\n",
        "\n",
        "elif ui.params.paper_source == \"Journal API\":\n",
        "    if not ui.params.paper_query_file or not ui.params.api_key_file:\n",
        "        LOG.error(\"❌ 'paper_query_file' and 'api_key_file' are required for Journal API source.\")\n",
        "    else:\n",
        "        paper_source = JournalApiPaperSource(\n",
        "            query_file=ui.params.paper_query_file,\n",
        "            api_key_file=ui.params.api_key_file,\n",
        "            output_dir=ui.params.output_dir\n",
        "        )\n",
        "\n",
        "else:\n",
        "    LOG.error(\"❌ Invalid or unsupported paper source selected.\")\n",
        "    paper_source = None\n",
        "\n",
        "# 2. Fetch papers\n",
        "if paper_source:\n",
        "    papers = paper_source.fetch_papers()\n",
        "else:\n",
        "    papers = []\n"
      ]
    },
    {
      "cell_type": "markdown",
      "id": "2ea17bb4",
      "metadata": {
        "id": "2ea17bb4"
      },
      "source": [
        "## Step 2: Update Ontology Using Retrieved Papers\n",
        "\n",
        "- Create an instance of `OntologyUpdater`, which enriches the ontology file using:\n",
        "  - The retrieved papers,\n",
        "  - The selected AI tool (`ai_tool`),\n",
        "  - The output directory for saving results.\n",
        "- The ontology file (`ontology_file`) contains a structured hierarchy of materials science concepts.\n",
        "- Calls `enrich_with_papers()` to extract relevant concepts and keywords from the papers and integrate them into the ontology.\n",
        "\n",
        "> **What this step does:**\n",
        "> - Associates papers with ontology categories by analyzing their content using an LLM agent.\n",
        "> - Produces structured `ontology_extractions` used for graph construction and ranking in later steps.\n"
      ]
    },
    {
      "cell_type": "code",
      "execution_count": null,
      "id": "6070a6a9",
      "metadata": {
        "id": "6070a6a9"
      },
      "outputs": [
        {
          "name": "stderr",
          "output_type": "stream",
          "text": [
            "2025-07-15 11:00:14,303 [INFO ]\t🔍 Processing paper: Invited Atomic Layer Deposited Sulfides As PreCatalysts for Electrochemical Water Splitting\n",
            "INFO:sokegraph.ai_agent:🔍 Processing paper: Invited Atomic Layer Deposited Sulfides As PreCatalysts for Electrochemical Water Splitting\n"
          ]
        },
        {
          "name": "stdout",
          "output_type": "stream",
          "text": [
            "xxxx\n"
          ]
        },
        {
          "name": "stderr",
          "output_type": "stream",
          "text": [
            "2025-07-15 11:00:42,388 [WARNI]\t⚠️ JSON parsing failed. Falling back to regex.\n",
            "WARNING:sokegraph.ai_agent:⚠️ JSON parsing failed. Falling back to regex.\n",
            "2025-07-15 11:00:42,389 [INFO ]\t✅ Extracted 5 items via regex.\n",
            "INFO:sokegraph.ai_agent:✅ Extracted 5 items via regex.\n",
            "2025-07-15 11:00:42,390 [INFO ]\t✅ Extracted 5 items for paper Invited Atomic Layer Deposited Sulfides As PreCatalysts for Electrochemical Water Splitting layer 'Environment'\n",
            "INFO:sokegraph.ai_agent:✅ Extracted 5 items for paper Invited Atomic Layer Deposited Sulfides As PreCatalysts for Electrochemical Water Splitting layer 'Environment'\n"
          ]
        },
        {
          "name": "stdout",
          "output_type": "stream",
          "text": [
            "xxxx\n"
          ]
        },
        {
          "name": "stderr",
          "output_type": "stream",
          "text": [
            "2025-07-15 11:00:52,052 [WARNI]\t⚠️ JSON parsing failed. Falling back to regex.\n",
            "WARNING:sokegraph.ai_agent:⚠️ JSON parsing failed. Falling back to regex.\n",
            "2025-07-15 11:00:52,054 [INFO ]\t✅ Extracted 10 items via regex.\n",
            "INFO:sokegraph.ai_agent:✅ Extracted 10 items via regex.\n",
            "2025-07-15 11:00:52,060 [INFO ]\t✅ Extracted 10 items for paper Invited Atomic Layer Deposited Sulfides As PreCatalysts for Electrochemical Water Splitting layer 'Process'\n",
            "INFO:sokegraph.ai_agent:✅ Extracted 10 items for paper Invited Atomic Layer Deposited Sulfides As PreCatalysts for Electrochemical Water Splitting layer 'Process'\n"
          ]
        },
        {
          "name": "stdout",
          "output_type": "stream",
          "text": [
            "xxxx\n"
          ]
        },
        {
          "name": "stderr",
          "output_type": "stream",
          "text": [
            "2025-07-15 11:00:59,173 [WARNI]\t⚠️ JSON parsing failed. Falling back to regex.\n",
            "WARNING:sokegraph.ai_agent:⚠️ JSON parsing failed. Falling back to regex.\n",
            "2025-07-15 11:00:59,175 [INFO ]\t✅ Extracted 8 items via regex.\n",
            "INFO:sokegraph.ai_agent:✅ Extracted 8 items via regex.\n",
            "2025-07-15 11:00:59,179 [INFO ]\t✅ Extracted 8 items for paper Invited Atomic Layer Deposited Sulfides As PreCatalysts for Electrochemical Water Splitting layer 'Reaction'\n",
            "INFO:sokegraph.ai_agent:✅ Extracted 8 items for paper Invited Atomic Layer Deposited Sulfides As PreCatalysts for Electrochemical Water Splitting layer 'Reaction'\n"
          ]
        },
        {
          "name": "stdout",
          "output_type": "stream",
          "text": [
            "xxxx\n"
          ]
        },
        {
          "name": "stderr",
          "output_type": "stream",
          "text": [
            "2025-07-15 11:01:07,054 [WARNI]\t⚠️ JSON parsing failed. Falling back to regex.\n",
            "WARNING:sokegraph.ai_agent:⚠️ JSON parsing failed. Falling back to regex.\n",
            "2025-07-15 11:01:07,056 [INFO ]\t✅ Extracted 11 items via regex.\n",
            "INFO:sokegraph.ai_agent:✅ Extracted 11 items via regex.\n",
            "2025-07-15 11:01:07,057 [INFO ]\t✅ Extracted 11 items for paper Invited Atomic Layer Deposited Sulfides As PreCatalysts for Electrochemical Water Splitting layer 'Elemental Composition'\n",
            "INFO:sokegraph.ai_agent:✅ Extracted 11 items for paper Invited Atomic Layer Deposited Sulfides As PreCatalysts for Electrochemical Water Splitting layer 'Elemental Composition'\n"
          ]
        },
        {
          "name": "stdout",
          "output_type": "stream",
          "text": [
            "xxxx\n"
          ]
        },
        {
          "name": "stderr",
          "output_type": "stream",
          "text": [
            "2025-07-15 11:01:12,868 [WARNI]\t⚠️ JSON parsing failed. Falling back to regex.\n",
            "WARNING:sokegraph.ai_agent:⚠️ JSON parsing failed. Falling back to regex.\n",
            "2025-07-15 11:01:12,873 [INFO ]\t✅ Extracted 7 items via regex.\n",
            "INFO:sokegraph.ai_agent:✅ Extracted 7 items via regex.\n",
            "2025-07-15 11:01:12,875 [INFO ]\t✅ Extracted 7 items for paper Invited Atomic Layer Deposited Sulfides As PreCatalysts for Electrochemical Water Splitting layer 'Material'\n",
            "INFO:sokegraph.ai_agent:✅ Extracted 7 items for paper Invited Atomic Layer Deposited Sulfides As PreCatalysts for Electrochemical Water Splitting layer 'Material'\n"
          ]
        },
        {
          "name": "stdout",
          "output_type": "stream",
          "text": [
            "xxxx\n"
          ]
        },
        {
          "name": "stderr",
          "output_type": "stream",
          "text": [
            "2025-07-15 11:01:15,538 [WARNI]\t⚠️ JSON parsing failed. Falling back to regex.\n",
            "WARNING:sokegraph.ai_agent:⚠️ JSON parsing failed. Falling back to regex.\n",
            "2025-07-15 11:01:15,540 [INFO ]\t✅ Extracted 3 items via regex.\n",
            "INFO:sokegraph.ai_agent:✅ Extracted 3 items via regex.\n",
            "2025-07-15 11:01:15,542 [INFO ]\t✅ Extracted 3 items for paper Invited Atomic Layer Deposited Sulfides As PreCatalysts for Electrochemical Water Splitting layer 'Performance & Stability'\n",
            "INFO:sokegraph.ai_agent:✅ Extracted 3 items for paper Invited Atomic Layer Deposited Sulfides As PreCatalysts for Electrochemical Water Splitting layer 'Performance & Stability'\n"
          ]
        },
        {
          "name": "stdout",
          "output_type": "stream",
          "text": [
            "xxxx\n"
          ]
        },
        {
          "name": "stderr",
          "output_type": "stream",
          "text": [
            "2025-07-15 11:01:23,374 [WARNI]\t⚠️ JSON parsing failed. Falling back to regex.\n",
            "WARNING:sokegraph.ai_agent:⚠️ JSON parsing failed. Falling back to regex.\n",
            "2025-07-15 11:01:23,376 [INFO ]\t✅ Extracted 12 items via regex.\n",
            "INFO:sokegraph.ai_agent:✅ Extracted 12 items via regex.\n",
            "2025-07-15 11:01:23,377 [INFO ]\t✅ Extracted 12 items for paper Invited Atomic Layer Deposited Sulfides As PreCatalysts for Electrochemical Water Splitting layer 'Application'\n",
            "INFO:sokegraph.ai_agent:✅ Extracted 12 items for paper Invited Atomic Layer Deposited Sulfides As PreCatalysts for Electrochemical Water Splitting layer 'Application'\n",
            "2025-07-15 11:01:23,378 [INFO ]\t🔍 Processing paper: Activating Ru in the pyramidal sites of Ru2Ptype structures with earthabundant transition metals for\n",
            "INFO:sokegraph.ai_agent:🔍 Processing paper: Activating Ru in the pyramidal sites of Ru2Ptype structures with earthabundant transition metals for\n"
          ]
        },
        {
          "name": "stdout",
          "output_type": "stream",
          "text": [
            "xxxx\n"
          ]
        },
        {
          "name": "stderr",
          "output_type": "stream",
          "text": [
            "2025-07-15 11:01:26,962 [WARNI]\t⚠️ JSON parsing failed. Falling back to regex.\n",
            "WARNING:sokegraph.ai_agent:⚠️ JSON parsing failed. Falling back to regex.\n",
            "2025-07-15 11:01:26,965 [INFO ]\t✅ Extracted 4 items via regex.\n",
            "INFO:sokegraph.ai_agent:✅ Extracted 4 items via regex.\n",
            "2025-07-15 11:01:26,967 [INFO ]\t✅ Extracted 4 items for paper Activating Ru in the pyramidal sites of Ru2Ptype structures with earthabundant transition metals for layer 'Environment'\n",
            "INFO:sokegraph.ai_agent:✅ Extracted 4 items for paper Activating Ru in the pyramidal sites of Ru2Ptype structures with earthabundant transition metals for layer 'Environment'\n"
          ]
        },
        {
          "name": "stdout",
          "output_type": "stream",
          "text": [
            "xxxx\n"
          ]
        },
        {
          "name": "stderr",
          "output_type": "stream",
          "text": [
            "2025-07-15 11:01:32,904 [WARNI]\t⚠️ JSON parsing failed. Falling back to regex.\n",
            "WARNING:sokegraph.ai_agent:⚠️ JSON parsing failed. Falling back to regex.\n",
            "2025-07-15 11:01:32,906 [INFO ]\t✅ Extracted 6 items via regex.\n",
            "INFO:sokegraph.ai_agent:✅ Extracted 6 items via regex.\n",
            "2025-07-15 11:01:32,910 [INFO ]\t✅ Extracted 6 items for paper Activating Ru in the pyramidal sites of Ru2Ptype structures with earthabundant transition metals for layer 'Process'\n",
            "INFO:sokegraph.ai_agent:✅ Extracted 6 items for paper Activating Ru in the pyramidal sites of Ru2Ptype structures with earthabundant transition metals for layer 'Process'\n"
          ]
        },
        {
          "name": "stdout",
          "output_type": "stream",
          "text": [
            "xxxx\n"
          ]
        },
        {
          "name": "stderr",
          "output_type": "stream",
          "text": [
            "2025-07-15 11:01:39,024 [WARNI]\t⚠️ JSON parsing failed. Falling back to regex.\n",
            "WARNING:sokegraph.ai_agent:⚠️ JSON parsing failed. Falling back to regex.\n",
            "2025-07-15 11:01:39,026 [INFO ]\t✅ Extracted 7 items via regex.\n",
            "INFO:sokegraph.ai_agent:✅ Extracted 7 items via regex.\n",
            "2025-07-15 11:01:39,028 [INFO ]\t✅ Extracted 7 items for paper Activating Ru in the pyramidal sites of Ru2Ptype structures with earthabundant transition metals for layer 'Reaction'\n",
            "INFO:sokegraph.ai_agent:✅ Extracted 7 items for paper Activating Ru in the pyramidal sites of Ru2Ptype structures with earthabundant transition metals for layer 'Reaction'\n"
          ]
        },
        {
          "name": "stdout",
          "output_type": "stream",
          "text": [
            "xxxx\n"
          ]
        },
        {
          "name": "stderr",
          "output_type": "stream",
          "text": [
            "2025-07-15 11:01:44,561 [WARNI]\t⚠️ JSON parsing failed. Falling back to regex.\n",
            "WARNING:sokegraph.ai_agent:⚠️ JSON parsing failed. Falling back to regex.\n",
            "2025-07-15 11:01:44,562 [INFO ]\t✅ Extracted 7 items via regex.\n",
            "INFO:sokegraph.ai_agent:✅ Extracted 7 items via regex.\n",
            "2025-07-15 11:01:44,566 [INFO ]\t✅ Extracted 7 items for paper Activating Ru in the pyramidal sites of Ru2Ptype structures with earthabundant transition metals for layer 'Elemental Composition'\n",
            "INFO:sokegraph.ai_agent:✅ Extracted 7 items for paper Activating Ru in the pyramidal sites of Ru2Ptype structures with earthabundant transition metals for layer 'Elemental Composition'\n"
          ]
        },
        {
          "name": "stdout",
          "output_type": "stream",
          "text": [
            "xxxx\n"
          ]
        },
        {
          "name": "stderr",
          "output_type": "stream",
          "text": [
            "2025-07-15 11:01:55,201 [WARNI]\t⚠️ JSON parsing failed. Falling back to regex.\n",
            "WARNING:sokegraph.ai_agent:⚠️ JSON parsing failed. Falling back to regex.\n",
            "2025-07-15 11:01:55,204 [INFO ]\t✅ Extracted 5 items via regex.\n",
            "INFO:sokegraph.ai_agent:✅ Extracted 5 items via regex.\n",
            "2025-07-15 11:01:55,207 [INFO ]\t✅ Extracted 5 items for paper Activating Ru in the pyramidal sites of Ru2Ptype structures with earthabundant transition metals for layer 'Material'\n",
            "INFO:sokegraph.ai_agent:✅ Extracted 5 items for paper Activating Ru in the pyramidal sites of Ru2Ptype structures with earthabundant transition metals for layer 'Material'\n"
          ]
        },
        {
          "name": "stdout",
          "output_type": "stream",
          "text": [
            "xxxx\n"
          ]
        },
        {
          "name": "stderr",
          "output_type": "stream",
          "text": [
            "2025-07-15 11:02:04,563 [WARNI]\t⚠️ JSON parsing failed. Falling back to regex.\n",
            "WARNING:sokegraph.ai_agent:⚠️ JSON parsing failed. Falling back to regex.\n",
            "2025-07-15 11:02:04,566 [INFO ]\t✅ Extracted 4 items via regex.\n",
            "INFO:sokegraph.ai_agent:✅ Extracted 4 items via regex.\n",
            "2025-07-15 11:02:04,567 [INFO ]\t✅ Extracted 4 items for paper Activating Ru in the pyramidal sites of Ru2Ptype structures with earthabundant transition metals for layer 'Performance & Stability'\n",
            "INFO:sokegraph.ai_agent:✅ Extracted 4 items for paper Activating Ru in the pyramidal sites of Ru2Ptype structures with earthabundant transition metals for layer 'Performance & Stability'\n"
          ]
        },
        {
          "name": "stdout",
          "output_type": "stream",
          "text": [
            "xxxx\n"
          ]
        },
        {
          "name": "stderr",
          "output_type": "stream",
          "text": [
            "2025-07-15 11:02:08,371 [WARNI]\t⚠️ JSON parsing failed. Falling back to regex.\n",
            "WARNING:sokegraph.ai_agent:⚠️ JSON parsing failed. Falling back to regex.\n",
            "2025-07-15 11:02:08,373 [INFO ]\t✅ Extracted 6 items via regex.\n",
            "INFO:sokegraph.ai_agent:✅ Extracted 6 items via regex.\n",
            "2025-07-15 11:02:08,375 [INFO ]\t✅ Extracted 6 items for paper Activating Ru in the pyramidal sites of Ru2Ptype structures with earthabundant transition metals for layer 'Application'\n",
            "INFO:sokegraph.ai_agent:✅ Extracted 6 items for paper Activating Ru in the pyramidal sites of Ru2Ptype structures with earthabundant transition metals for layer 'Application'\n",
            "2025-07-15 11:02:08,378 [INFO ]\t🔍 Processing paper: Polyoxometalate electrocatalysts based on earth-abundant metals for efficient water oxidation in aci\n",
            "INFO:sokegraph.ai_agent:🔍 Processing paper: Polyoxometalate electrocatalysts based on earth-abundant metals for efficient water oxidation in aci\n"
          ]
        },
        {
          "name": "stdout",
          "output_type": "stream",
          "text": [
            "xxxx\n"
          ]
        },
        {
          "name": "stderr",
          "output_type": "stream",
          "text": [
            "2025-07-15 11:02:08,849 [WARNI]\t⚠️ JSON parsing failed. Falling back to regex.\n",
            "WARNING:sokegraph.ai_agent:⚠️ JSON parsing failed. Falling back to regex.\n",
            "2025-07-15 11:02:08,851 [INFO ]\t✅ Extracted 0 items via regex.\n",
            "INFO:sokegraph.ai_agent:✅ Extracted 0 items via regex.\n",
            "2025-07-15 11:02:08,852 [INFO ]\t✅ Extracted 0 items for paper Polyoxometalate electrocatalysts based on earth-abundant metals for efficient water oxidation in aci layer 'Environment'\n",
            "INFO:sokegraph.ai_agent:✅ Extracted 0 items for paper Polyoxometalate electrocatalysts based on earth-abundant metals for efficient water oxidation in aci layer 'Environment'\n"
          ]
        },
        {
          "name": "stdout",
          "output_type": "stream",
          "text": [
            "xxxx\n"
          ]
        },
        {
          "name": "stderr",
          "output_type": "stream",
          "text": [
            "2025-07-15 11:02:10,255 [WARNI]\t⚠️ JSON parsing failed. Falling back to regex.\n",
            "WARNING:sokegraph.ai_agent:⚠️ JSON parsing failed. Falling back to regex.\n",
            "2025-07-15 11:02:10,257 [INFO ]\t✅ Extracted 0 items via regex.\n",
            "INFO:sokegraph.ai_agent:✅ Extracted 0 items via regex.\n",
            "2025-07-15 11:02:10,258 [INFO ]\t✅ Extracted 0 items for paper Polyoxometalate electrocatalysts based on earth-abundant metals for efficient water oxidation in aci layer 'Process'\n",
            "INFO:sokegraph.ai_agent:✅ Extracted 0 items for paper Polyoxometalate electrocatalysts based on earth-abundant metals for efficient water oxidation in aci layer 'Process'\n"
          ]
        },
        {
          "name": "stdout",
          "output_type": "stream",
          "text": [
            "xxxx\n"
          ]
        },
        {
          "name": "stderr",
          "output_type": "stream",
          "text": [
            "2025-07-15 11:02:10,954 [WARNI]\t⚠️ JSON parsing failed. Falling back to regex.\n",
            "WARNING:sokegraph.ai_agent:⚠️ JSON parsing failed. Falling back to regex.\n",
            "2025-07-15 11:02:10,955 [INFO ]\t✅ Extracted 0 items via regex.\n",
            "INFO:sokegraph.ai_agent:✅ Extracted 0 items via regex.\n",
            "2025-07-15 11:02:10,957 [INFO ]\t✅ Extracted 0 items for paper Polyoxometalate electrocatalysts based on earth-abundant metals for efficient water oxidation in aci layer 'Reaction'\n",
            "INFO:sokegraph.ai_agent:✅ Extracted 0 items for paper Polyoxometalate electrocatalysts based on earth-abundant metals for efficient water oxidation in aci layer 'Reaction'\n"
          ]
        },
        {
          "name": "stdout",
          "output_type": "stream",
          "text": [
            "xxxx\n"
          ]
        },
        {
          "name": "stderr",
          "output_type": "stream",
          "text": [
            "2025-07-15 11:02:18,044 [WARNI]\t⚠️ JSON parsing failed. Falling back to regex.\n",
            "WARNING:sokegraph.ai_agent:⚠️ JSON parsing failed. Falling back to regex.\n",
            "2025-07-15 11:02:18,046 [INFO ]\t✅ Extracted 9 items via regex.\n",
            "INFO:sokegraph.ai_agent:✅ Extracted 9 items via regex.\n",
            "2025-07-15 11:02:18,048 [INFO ]\t✅ Extracted 9 items for paper Polyoxometalate electrocatalysts based on earth-abundant metals for efficient water oxidation in aci layer 'Elemental Composition'\n",
            "INFO:sokegraph.ai_agent:✅ Extracted 9 items for paper Polyoxometalate electrocatalysts based on earth-abundant metals for efficient water oxidation in aci layer 'Elemental Composition'\n"
          ]
        },
        {
          "name": "stdout",
          "output_type": "stream",
          "text": [
            "xxxx\n"
          ]
        },
        {
          "name": "stderr",
          "output_type": "stream",
          "text": [
            "2025-07-15 11:02:19,683 [WARNI]\t⚠️ JSON parsing failed. Falling back to regex.\n",
            "WARNING:sokegraph.ai_agent:⚠️ JSON parsing failed. Falling back to regex.\n",
            "2025-07-15 11:02:19,685 [INFO ]\t✅ Extracted 0 items via regex.\n",
            "INFO:sokegraph.ai_agent:✅ Extracted 0 items via regex.\n",
            "2025-07-15 11:02:19,686 [INFO ]\t✅ Extracted 0 items for paper Polyoxometalate electrocatalysts based on earth-abundant metals for efficient water oxidation in aci layer 'Material'\n",
            "INFO:sokegraph.ai_agent:✅ Extracted 0 items for paper Polyoxometalate electrocatalysts based on earth-abundant metals for efficient water oxidation in aci layer 'Material'\n"
          ]
        },
        {
          "name": "stdout",
          "output_type": "stream",
          "text": [
            "xxxx\n"
          ]
        },
        {
          "name": "stderr",
          "output_type": "stream",
          "text": [
            "2025-07-15 11:02:21,254 [WARNI]\t⚠️ JSON parsing failed. Falling back to regex.\n",
            "WARNING:sokegraph.ai_agent:⚠️ JSON parsing failed. Falling back to regex.\n",
            "2025-07-15 11:02:21,258 [INFO ]\t✅ Extracted 0 items via regex.\n",
            "INFO:sokegraph.ai_agent:✅ Extracted 0 items via regex.\n",
            "2025-07-15 11:02:21,263 [INFO ]\t✅ Extracted 0 items for paper Polyoxometalate electrocatalysts based on earth-abundant metals for efficient water oxidation in aci layer 'Performance & Stability'\n",
            "INFO:sokegraph.ai_agent:✅ Extracted 0 items for paper Polyoxometalate electrocatalysts based on earth-abundant metals for efficient water oxidation in aci layer 'Performance & Stability'\n"
          ]
        },
        {
          "name": "stdout",
          "output_type": "stream",
          "text": [
            "xxxx\n"
          ]
        },
        {
          "name": "stderr",
          "output_type": "stream",
          "text": [
            "2025-07-15 11:02:23,780 [WARNI]\t⚠️ JSON parsing failed. Falling back to regex.\n",
            "WARNING:sokegraph.ai_agent:⚠️ JSON parsing failed. Falling back to regex.\n",
            "2025-07-15 11:02:23,783 [INFO ]\t✅ Extracted 5 items via regex.\n",
            "INFO:sokegraph.ai_agent:✅ Extracted 5 items via regex.\n",
            "2025-07-15 11:02:23,784 [INFO ]\t✅ Extracted 5 items for paper Polyoxometalate electrocatalysts based on earth-abundant metals for efficient water oxidation in aci layer 'Application'\n",
            "INFO:sokegraph.ai_agent:✅ Extracted 5 items for paper Polyoxometalate electrocatalysts based on earth-abundant metals for efficient water oxidation in aci layer 'Application'\n"
          ]
        }
      ],
      "source": [
        "# 2. Update ontology\n",
        "ontology_updater = OntologyUpdater(ui.params.ontology_file, papers, ai_tool, ui.params.output_dir)  # or however you instantiate it\n",
        "updated_ontology_path = ontology_updater.enrich_with_papers()"
      ]
    },
    {
      "cell_type": "markdown",
      "id": "889b03d6",
      "metadata": {
        "id": "889b03d6"
      },
      "source": [
        "## Step 3: Rank Papers Based on Ontology and Keywords\n",
        "\n",
        "- Instantiate the `PaperRanker` with:\n",
        "  - The selected AI tool (`ai_tool`)\n",
        "  - The list of fetched papers\n",
        "  - The enriched ontology output file (`ontology_updater.output_path`)\n",
        "  - A keyword file containing user-defined or domain-relevant keywords\n",
        "  - The output directory for storing results\n",
        "\n",
        "- Call `rank_papers()` to:\n",
        "  - Match papers to relevant ontology categories using keywords\n",
        "  - Score and rank papers based on how well they align with the user’s interests\n",
        "  - Optionally filter out papers dominated by **opposite concepts** (e.g., if a paper mentions “insulator” often when you are looking for “conductor”)\n",
        "\n",
        "> **What this step does:**\n",
        "> - Produces a ranked list of relevant papers\n",
        "> - Generates visual summaries and a CSV of shared ontology category overlaps\n"
      ]
    },
    {
      "cell_type": "code",
      "execution_count": 45,
      "id": "cdd6e5eb",
      "metadata": {
        "id": "cdd6e5eb"
      },
      "outputs": [
        {
          "name": "stderr",
          "output_type": "stream",
          "text": [
            "2025-07-15 11:04:29,729 [INFO ]\t🔍 User query: acidic HER water splitting\n",
            "INFO:sokegraph:🔍 User query: acidic HER water splitting\n",
            "2025-07-15 11:04:34,442 [INFO ]\t\n",
            "✅ Categories Used: 3\n",
            "INFO:sokegraph:\n",
            "✅ Categories Used: 3\n"
          ]
        },
        {
          "name": "stdout",
          "output_type": "stream",
          "text": [
            "response :  \n",
            "[\n",
            "    {\n",
            "        \"keyword\": \"acidic\",\n",
            "        \"category\": \"Acidic\",\n",
            "        \"layer\": \"Environment\"\n",
            "    },\n",
            "    {\n",
            "        \"keyword\": \"HER\",\n",
            "        \"category\": \"Hydrogen Evolution Reaction (HER)\",\n",
            "        \"layer\": \"Reaction\"\n",
            "    },\n",
            "    {\n",
            "        \"keyword\": \"water splitting\",\n",
            "        \"category\": \"Water Electrolysis\",\n",
            "        \"layer\": \"Process\"\n",
            "    }\n",
            "]\n",
            "\n",
            "✅ OpenAI: 'acidic' → Environment / Acidic\n",
            "✅ OpenAI: 'her' → Reaction / Hydrogen Evolution Reaction (HER)\n",
            "✅ OpenAI: 'water splitting' → Process / Water Electrolysis\n",
            "❌ No match for: 'water'\n",
            "❌ No match for: 'splitting'\n",
            "  1. 'acidic' → Environment / Acidic\n",
            "  2. 'her' → Reaction / Hydrogen Evolution Reaction (HER)\n",
            "  3. 'water splitting' → Process / Water Electrolysis\n"
          ]
        },
        {
          "name": "stderr",
          "output_type": "stream",
          "text": [
            "2025-07-15 11:04:35,719 [WARNI]\t⚠️ Could not parse opposites JSON. Raw:\n",
            "```json\n",
            "{\n",
            "    \"acidic\": [\"alkaline\", \"basic\"],\n",
            "    \"her\": [\"orr\", \"oxygen evolution reaction\", \"oer\"],\n",
            "    \"water splitting\": [\"water formation\", \"hydrogenation\", \"fuel cell operation\"]\n",
            "}\n",
            "```\n",
            "WARNING:sokegraph.ai_agent:⚠️ Could not parse opposites JSON. Raw:\n",
            "```json\n",
            "{\n",
            "    \"acidic\": [\"alkaline\", \"basic\"],\n",
            "    \"her\": [\"orr\", \"oxygen evolution reaction\", \"oer\"],\n",
            "    \"water splitting\": [\"water formation\", \"hydrogenation\", \"fuel cell operation\"]\n",
            "}\n",
            "```\n",
            "2025-07-15 11:04:39,358 [WARNI]\t⚠️ Could not parse synonym JSON. Raw:\n",
            "```json\n",
            "{\n",
            "    \"acidic\": [\"low pH\", \"acid media\", \"acidic conditions\", \"proton-rich environment\"],\n",
            "    \"her\": [\"hydrogen evolution reaction\", \"H2 generation\", \"hydrogen production\", \"cathodic hydrogen evolution\"],\n",
            "    \"water splitting\": [\"electrochemical water splitting\", \"water electrolysis\", \"H2O splitting\", \"water decomposition\"]\n",
            "}\n",
            "```\n",
            "WARNING:sokegraph.ai_agent:⚠️ Could not parse synonym JSON. Raw:\n",
            "```json\n",
            "{\n",
            "    \"acidic\": [\"low pH\", \"acid media\", \"acidic conditions\", \"proton-rich environment\"],\n",
            "    \"her\": [\"hydrogen evolution reaction\", \"H2 generation\", \"hydrogen production\", \"cathodic hydrogen evolution\"],\n",
            "    \"water splitting\": [\"electrochemical water splitting\", \"water electrolysis\", \"H2O splitting\", \"water decomposition\"]\n",
            "}\n",
            "```\n"
          ]
        },
        {
          "name": "stdout",
          "output_type": "stream",
          "text": [
            "\n",
            "🧪 Opposites used for filtering:\n",
            "  - 'acidic': []\n",
            "  - 'her': []\n",
            "  - 'water splitting': []\n"
          ]
        },
        {
          "data": {
            "text/html": [
              "<div>\n",
              "<style scoped>\n",
              "    .dataframe tbody tr th:only-of-type {\n",
              "        vertical-align: middle;\n",
              "    }\n",
              "\n",
              "    .dataframe tbody tr th {\n",
              "        vertical-align: top;\n",
              "    }\n",
              "\n",
              "    .dataframe thead th {\n",
              "        text-align: right;\n",
              "    }\n",
              "</style>\n",
              "<table border=\"1\" class=\"dataframe\">\n",
              "  <thead>\n",
              "    <tr style=\"text-align: right;\">\n",
              "      <th></th>\n",
              "      <th>Paper ID</th>\n",
              "      <th>Query Keyword</th>\n",
              "      <th>Title Relevant Count</th>\n",
              "      <th>Title Opposing Count</th>\n",
              "      <th>Abstract Relevant Count</th>\n",
              "      <th>Abstract Opposing Count</th>\n",
              "      <th>Total Relevant Count</th>\n",
              "      <th>Total Opposing Count</th>\n",
              "      <th>Matched Opposing Keywords</th>\n",
              "      <th>Ratio</th>\n",
              "      <th>Status</th>\n",
              "    </tr>\n",
              "  </thead>\n",
              "  <tbody>\n",
              "    <tr>\n",
              "      <th>0</th>\n",
              "      <td>Activating Ru in the pyramidal sites of Ru2Pty...</td>\n",
              "      <td>acidic</td>\n",
              "      <td>1</td>\n",
              "      <td>0</td>\n",
              "      <td>0</td>\n",
              "      <td>0</td>\n",
              "      <td>1</td>\n",
              "      <td>0</td>\n",
              "      <td></td>\n",
              "      <td>0.0</td>\n",
              "      <td>Kept</td>\n",
              "    </tr>\n",
              "    <tr>\n",
              "      <th>1</th>\n",
              "      <td>Activating Ru in the pyramidal sites of Ru2Pty...</td>\n",
              "      <td>her</td>\n",
              "      <td>0</td>\n",
              "      <td>0</td>\n",
              "      <td>0</td>\n",
              "      <td>0</td>\n",
              "      <td>0</td>\n",
              "      <td>0</td>\n",
              "      <td></td>\n",
              "      <td>inf</td>\n",
              "      <td>Filtered</td>\n",
              "    </tr>\n",
              "    <tr>\n",
              "      <th>2</th>\n",
              "      <td>Activating Ru in the pyramidal sites of Ru2Pty...</td>\n",
              "      <td>water splitting</td>\n",
              "      <td>1</td>\n",
              "      <td>0</td>\n",
              "      <td>0</td>\n",
              "      <td>0</td>\n",
              "      <td>1</td>\n",
              "      <td>0</td>\n",
              "      <td></td>\n",
              "      <td>0.0</td>\n",
              "      <td>Kept</td>\n",
              "    </tr>\n",
              "  </tbody>\n",
              "</table>\n",
              "</div>"
            ],
            "text/plain": [
              "                                            Paper ID    Query Keyword  \\\n",
              "0  Activating Ru in the pyramidal sites of Ru2Pty...           acidic   \n",
              "1  Activating Ru in the pyramidal sites of Ru2Pty...              her   \n",
              "2  Activating Ru in the pyramidal sites of Ru2Pty...  water splitting   \n",
              "\n",
              "   Title Relevant Count  Title Opposing Count  Abstract Relevant Count  \\\n",
              "0                     1                     0                        0   \n",
              "1                     0                     0                        0   \n",
              "2                     1                     0                        0   \n",
              "\n",
              "   Abstract Opposing Count  Total Relevant Count  Total Opposing Count  \\\n",
              "0                        0                     1                     0   \n",
              "1                        0                     0                     0   \n",
              "2                        0                     1                     0   \n",
              "\n",
              "  Matched Opposing Keywords  Ratio    Status  \n",
              "0                              0.0      Kept  \n",
              "1                              inf  Filtered  \n",
              "2                              0.0      Kept  "
            ]
          },
          "metadata": {},
          "output_type": "display_data"
        },
        {
          "name": "stderr",
          "output_type": "stream",
          "text": [
            "2025-07-15 11:04:39,381 [INFO ]\t\n",
            "🚫 Filtered out 1 papers due to dominance of opposite keywords.\n",
            "INFO:sokegraph:\n",
            "🚫 Filtered out 1 papers due to dominance of opposite keywords.\n",
            "2025-07-15 11:04:39,382 [INFO ]\t\n",
            "📚 Ranked Papers:\n",
            "INFO:sokegraph:\n",
            "📚 Ranked Papers:\n",
            "2025-07-15 11:04:39,383 [INFO ]\t\n",
            "🟢🟡 High & Moderate Relevance:\n",
            "INFO:sokegraph:\n",
            "🟢🟡 High & Moderate Relevance:\n",
            "2025-07-15 11:04:39,384 [INFO ]\t\n",
            "🔴 Low Relevance (sorted by number of over-threshold keywords):\n",
            "INFO:sokegraph:\n",
            "🔴 Low Relevance (sorted by number of over-threshold keywords):\n",
            "2025-07-15 11:04:39,385 [INFO ]\t\n",
            "🏆 Full Ranking by Number of Category Pairs Shared (out of 3 pairs):\n",
            "INFO:sokegraph:\n",
            "🏆 Full Ranking by Number of Category Pairs Shared (out of 3 pairs):\n",
            "2025-07-15 11:04:39,387 [INFO ]\t✅ Exported shared papers to 'shared_pair_ranked_papers.csv'\n",
            "INFO:sokegraph:✅ Exported shared papers to 'shared_pair_ranked_papers.csv'\n",
            "2025-07-15 11:04:39,388 [INFO ]\t\n",
            "🔄 Overlaps Between Categories:\n",
            "INFO:sokegraph:\n",
            "🔄 Overlaps Between Categories:\n",
            "2025-07-15 11:04:39,389 [INFO ]\t  • 'Acidic' ↔ 'Water Electrolysis': 2 shared papers, 27 keyword mentions in common\n",
            "INFO:sokegraph:  • 'Acidic' ↔ 'Water Electrolysis': 2 shared papers, 27 keyword mentions in common\n",
            "2025-07-15 11:04:39,389 [INFO ]\t  • 'Acidic' ↔ 'Hydrogen Evolution Reaction (HER)': 2 shared papers, 31 keyword mentions in common\n",
            "INFO:sokegraph:  • 'Acidic' ↔ 'Hydrogen Evolution Reaction (HER)': 2 shared papers, 31 keyword mentions in common\n",
            "2025-07-15 11:04:39,390 [INFO ]\t  • 'Water Electrolysis' ↔ 'Hydrogen Evolution Reaction (HER)': 2 shared papers, 26 keyword mentions in common\n",
            "INFO:sokegraph:  • 'Water Electrolysis' ↔ 'Hydrogen Evolution Reaction (HER)': 2 shared papers, 26 keyword mentions in common\n",
            "2025-07-15 11:04:39,397 [INFO ]\t\n",
            "🏆 Shared Papers Ranked by Pair Count → Mentions:\n",
            "INFO:sokegraph:\n",
            "🏆 Shared Papers Ranked by Pair Count → Mentions:\n",
            "2025-07-15 11:04:39,399 [INFO ]\tInvited Atomic Layer Deposited Sulfides As PreCatalysts for Electrochemical Water Splitting | Pairs: 3 | Mentions: 56 | Relevance: high\n",
            "INFO:sokegraph:Invited Atomic Layer Deposited Sulfides As PreCatalysts for Electrochemical Water Splitting | Pairs: 3 | Mentions: 56 | Relevance: high\n",
            "2025-07-15 11:04:39,402 [INFO ]\tActivating Ru in the pyramidal sites of Ru2Ptype structures with earthabundant transition metals for | Pairs: 3 | Mentions: 49 | Relevance: high\n",
            "INFO:sokegraph:Activating Ru in the pyramidal sites of Ru2Ptype structures with earthabundant transition metals for | Pairs: 3 | Mentions: 49 | Relevance: high\n",
            "2025-07-15 11:04:39,406 [INFO ]\t✅ Saved: /Users/shahlla/Documents/Dal Uni/work with mita/Job/project_code/sokegraph_project_class/external/output/shared_ranked_by_pairs_then_mentions_high.csv\n",
            "INFO:sokegraph:✅ Saved: /Users/shahlla/Documents/Dal Uni/work with mita/Job/project_code/sokegraph_project_class/external/output/shared_ranked_by_pairs_then_mentions_high.csv\n"
          ]
        },
        {
          "name": "stdout",
          "output_type": "stream",
          "text": [
            "  1. Invited Atomic Layer Deposited Sulfides As PreCatalysts for Electrochemical Water Splitting (mentions=56)\n",
            "  2. Activating Ru in the pyramidal sites of Ru2Ptype structures with earthabundant transition metals for (mentions=49)\n",
            "  3. Polyoxometalate electrocatalysts based on earth-abundant metals for efficient water oxidation in aci (mentions=0)\n",
            "  1. Invited Atomic Layer Deposited Sulfides As PreCatalysts for Electrochemical Water Splitting → shared in 3/3 pair(s)\n",
            "     ⤷ Pairs: ['Acidic ↔ Hydrogen Evolution Reaction (HER)', 'Acidic ↔ Water Electrolysis', 'Water Electrolysis ↔ Hydrogen Evolution Reaction (HER)']\n",
            "  2. Activating Ru in the pyramidal sites of Ru2Ptype structures with earthabundant transition metals for → shared in 3/3 pair(s)\n",
            "     ⤷ Pairs: ['Acidic ↔ Hydrogen Evolution Reaction (HER)', 'Acidic ↔ Water Electrolysis', 'Water Electrolysis ↔ Hydrogen Evolution Reaction (HER)']\n"
          ]
        }
      ],
      "source": [
        "# 3. Rank papers\n",
        "#LOG.info(\"ranking papers ....\")\n",
        "ranker = PaperRanker(ai_tool, papers, ontology_updater.output_path, ui.params.keywords_file, ui.params.output_dir)\n",
        "rank_paper_output = ranker.rank_papers()"
      ]
    },
    {
      "cell_type": "markdown",
      "id": "ce951e6e",
      "metadata": {
        "id": "ce951e6e"
      },
      "source": [
        "## Step 4: Build the Knowledge Graph\n",
        "\n",
        "This step constructs a **knowledge graph** from the updated ontology, allowing for structured querying and visualization of relationships between materials, methods, and properties.\n",
        "\n",
        "### What happens here:\n",
        "- Credentials for the target graph database (e.g., Neo4j) are loaded from a JSON file.\n",
        "- A `KnowledgeGraph` builder is instantiated (e.g., `Neo4jKnowledgeGraph`) using:\n",
        "  - The enriched ontology file (`updated_ontology.json`)\n",
        "  - Connection details to the Neo4j server (URI, username, password)\n",
        "- The `.build_graph()` method builds the actual graph in the database.\n",
        "\n",
        "> ✅ **Result**: A graph database containing categorized concepts and their relationships, ready for exploration or reasoning tasks.\n",
        "\n",
        "---\n",
        "\n",
        "🎉 **The full pipeline is now complete!** You’ve fetched papers, enriched the ontology, ranked relevant publications, and built a graph-based representation of your domain knowledge.\n"
      ]
    },
    {
      "cell_type": "code",
      "execution_count": null,
      "id": "066db0ae",
      "metadata": {
        "id": "066db0ae"
      },
      "outputs": [
        {
          "name": "stderr",
          "output_type": "stream",
          "text": [
            "2025-07-15 11:05:59,096 [INFO ]\t Building knowledge graph ....\n",
            "INFO:sokegraph: Building knowledge graph ....\n",
            "2025-07-15 11:05:59,108 [INFO ]\t🎉 Pipeline Completed Successfully\n",
            "INFO:sokegraph:🎉 Pipeline Completed Successfully\n"
          ]
        },
        {
          "name": "stdout",
          "output_type": "stream",
          "text": [
            "🎉 NetworkX knowledge graph construction complete.\n"
          ]
        }
      ],
      "source": [
        "# 4. Build knowledge graph\n",
        "LOG.info(\" Building knowledge graph ....\")\n",
        "### load\n",
        "with open(ui.params.kg_credentials_file, \"r\") as f:\n",
        "    credentials = json.load(f)\n",
        "\n",
        "#### build graph\n",
        "graph_builder: KnowledgeGraph\n",
        "if(ui.params.kg_type == \"neo4j\"):\n",
        "    graph_builder = Neo4jKnowledgeGraph(ontology_updater.output_path,\n",
        "                                        credentials[\"neo4j_uri\"],\n",
        "                                        credentials[\"neo4j_user\"],\n",
        "                                        credentials[\"neo4j_pass\"])\n",
        "elif(ui.params.kg_type == \"networkx\"):\n",
        "    graph_builder = NetworkXKnowledgeGraph(ontology_updater.output_path)\n",
        "\n",
        "graph_builder.build_graph()\n",
        "\n",
        "\n",
        "LOG.info(\"🎉 Pipeline Completed Successfully\")"
      ]
    }
  ],
  "metadata": {
    "colab": {
      "include_colab_link": true,
      "provenance": []
    },
    "kernelspec": {
      "display_name": "sokegraph",
      "language": "python",
      "name": "python3"
    },
    "language_info": {
      "codemirror_mode": {
        "name": "ipython",
        "version": 3
      },
      "file_extension": ".py",
      "mimetype": "text/x-python",
      "name": "python",
      "nbconvert_exporter": "python",
      "pygments_lexer": "ipython3",
      "version": "3.9.23"
    }
  },
  "nbformat": 4,
  "nbformat_minor": 5
}
