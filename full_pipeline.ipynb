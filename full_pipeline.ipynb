{
  "cells": [
    {
      "cell_type": "markdown",
      "id": "9a157a6e",
      "metadata": {},
      "source": [
        "### 🔧 Configuration Parameters\n",
        "\n",
        "Below is a dictionary called `params` which you can modify to control the pipeline:\n",
        "\n",
        "- **AI**: Choose your language model (`\"openAI\"`, `\"gemini\"`, or `\"llama\"`)\n",
        "- **API_keys**: Path to your `.json` or `.txt` file containing your API credentials\n",
        "- **number_papers**: Number of papers to retrieve from Semantic Scholar\n",
        "- **paper_query_file**: A `.txt` file with paper search queries (1 per line)\n",
        "- **pdfs_file**: (Optional) ZIP file of PDFs to use instead of online search\n",
        "- **ontology_file**: Ontology JSON file defining domain categories\n",
        "- **output_dir**: Output folder path for saving results\n",
        "- **keyword_query_file**: Text file listing relevant keywords\n",
        "- **credentials_for_knowledge_graph**: JSON with Neo4j login info (uri, username, password)\n",
        "- **model_knowledge_graph**: Set to `\"neo4j\"` for graph creation backend\n",
        "\n",
        "> ⚠️ **Note**: Use only one of the following input options:\n",
        "> - `number_papers` + `paper_query_file`\n",
        "> - `pdfs_file`"
      ]
    },
    {
      "cell_type": "code",
      "execution_count": null,
      "id": "6e5c0898",
      "metadata": {},
      "outputs": [],
      "source": [
        "params = {\n",
        "    \"AI\": \"openAI\",  # or \"gemini\"\n",
        "    \"API_keys\": \"openai_keys.json\",\n",
        "    \"number_papers\": 10,\n",
        "    \"paper_query_file\": \"topics.txt\",\n",
        "    \"pdfs_file\": None,  # if using PDF input instead\n",
        "    \"ontology_file\": \"base_ontology.json\",\n",
        "    \"output_dir\": \"output/\",\n",
        "    \"keyword_query_file\": \"keywords.txt\",\n",
        "    \"credentials_for_knowledge_graph\": \"neo4j_credentials.json\",\n",
        "    \"model_knowledge_graph\": \"neo4j\"\n",
        "}"
      ]
    },
    {
      "cell_type": "markdown",
      "id": "4861e3e0",
      "metadata": {},
      "source": [
        "### 🚀 Run the Full SOKEGraph Pipeline\n",
        "\n",
        "After you’ve defined your **`params`** dictionary in a code cell, run the entire pipeline with:"
      ]
    },
    {
      "cell_type": "code",
      "execution_count": null,
      "id": "a5961e46",
      "metadata": {},
      "outputs": [],
      "source": [
        "from sokegraph.full_pipeline import full_pipeline_main\n",
        "\n",
        "full_pipeline_main(params)"
      ]
    },
    {
      "cell_type": "markdown",
      "id": "f1ebc0b4",
      "metadata": {},
      "source": [
        "### ✅ What Happens Under the Hood\n",
        "\n",
        "#### 📄 Paper Retrieval\n",
        "Fetches papers from **Semantic Scholar** or loads PDFs from your ZIP file.\n",
        "\n",
        "#### 🧠 Ontology Enrichment\n",
        "Uses the chosen AI agent (`openAI`, `gemini`, or `llama`) to add new concepts and metadata to your ontology file.\n",
        "\n",
        "#### 📊 Paper Ranking\n",
        "Ranks and scores papers based on:\n",
        "- Keyword relevance  \n",
        "- Synonyms and expanded concepts  \n",
        "- Opposite keyword filtering\n",
        "\n",
        "#### 🕸 Knowledge Graph Construction\n",
        "Builds a **Neo4j** knowledge graph (`model_knowledge_graph = \"neo4j\"`) with:\n",
        "- Layers and categories from ontology  \n",
        "- Paper-to-concept relationships  \n",
        "- Metadata and paper links\n",
        "\n",
        "#### 💾 Output Saving\n",
        "Stores results inside your specified `output_dir`, including:\n",
        "- Updated ontology  \n",
        "- Ranked papers  \n",
        "- Logs and summaries\n",
        "\n",
        "> 💡 **Tip:** Make sure your `params` paths are correct and that all required services (like **Neo4j** or **Ollama**) are up and running before execution.\n"
      ]
    }
  ],
  "metadata": {
    "colab": {
      "include_colab_link": true,
      "provenance": []
    },
    "kernelspec": {
      "display_name": "sokegraph",
      "language": "python",
      "name": "python3"
    },
    "language_info": {
      "codemirror_mode": {
        "name": "ipython",
        "version": 3
      },
      "file_extension": ".py",
      "mimetype": "text/x-python",
      "name": "python",
      "nbconvert_exporter": "python",
      "pygments_lexer": "ipython3",
      "version": "3.9.23"
    }
  },
  "nbformat": 4,
  "nbformat_minor": 5
}
