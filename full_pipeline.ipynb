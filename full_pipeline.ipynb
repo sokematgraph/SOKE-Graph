{
  "cells": [
    {
      "cell_type": "markdown",
      "id": "25f2a9e1",
      "metadata": {},
      "source": [
        "### 🛠️ Configuration Parameters\n",
        "\n",
        "- **paper_source**: Selects the source of papers. Options:\n",
        "  - `\"Semantic Scholar\"`: Fetch papers using search queries.\n",
        "  - `\"PDF Zip\"`: Use a local ZIP file containing PDFs.\n",
        "  - `\"Journal API\"`: Fetch papers from the Web of Science Journal API (requires `api_key_file`).\n",
        "\n",
        "- **number_papers**: Number of papers to fetch when using `\"Semantic Scholar\"` as the source.\n",
        "\n",
        "- **paper_query_file**: Path to a `.txt` file containing one paper search query per line.\n",
        "\n",
        "- **pdfs_file**: Path to a ZIP file containing PDF papers (only used if `paper_source=\"PDF Zip\"`).\n",
        "\n",
        "- **api_key_file**: Path to a file containing the API key for Journal API (used only when `paper_source=\"Journal API\"`).\n",
        "\n",
        "- **ontology_file**: Base ontology file in JSON format.\n",
        "\n",
        "- **AI**: Selects the AI model to use. Options: `\"openAI\"`, `\"gemini\"`, `\"llama\"`, `\"ollama\"`, `\"claude\"`.\n",
        "\n",
        "- **API_keys**: Path to your AI model API keys file (e.g., OpenAI key TXT file).\n",
        "\n",
        "- **keyword_query_file**: Text file listing keywords to extract and rank from papers.\n",
        "\n",
        "- **model_knowledge_graph**: Type of graph backend to build the knowledge graph. Options:\n",
        "  - `\"neo4j\"`: Uses Neo4j graph database.\n",
        "  - `\"networkx\"`: Uses an in-memory NetworkX graph.\n",
        "\n",
        "- **credentials_for_knowledge_graph**: JSON file containing connection credentials for Neo4j (only used when `model_knowledge_graph=\"neo4j\"`).\n",
        "\n",
        "- **output_dir**: Directory where all output files (results, logs, metadata) will be saved.\n"
      ]
    },
    {
      "cell_type": "code",
      "execution_count": 1,
      "id": "6e5c0898",
      "metadata": {},
      "outputs": [],
      "source": [
        "from types import SimpleNamespace\n",
        "\n",
        "params = SimpleNamespace(\n",
        "    paper_source=\"Semantic Scholar\",  # Options: \"Semantic Scholar\", \"PDF Zip\", \"Journal API\"\n",
        "    number_papers=3,                # Number of papers to fetch from Semantic Scholar\n",
        "    paper_query_file=\"external/input/paper_query.txt\",   # Text file with one search query per line\n",
        "    pdfs_file=None,                  # Optional: ZIP file with PDFs (for PDF source)\n",
        "    api_key_file=\"\",  # API key file for Journal API source\n",
        "    ontology_file=\"external/input/ontology.json\",  # Base ontology file (JSON or OWL)\n",
        "    AI=\"openAI\",                          # Options: \"openAI\", \"gemini\", \"llama\", \"ollama\", \"claude\"\n",
        "    API_keys=\"external/input/OpenAI_APIs_SOKEmatgraph1.txt\",         # API key file for AI tools\n",
        "    keyword_query_file=\"external/input/keyword_query.txt\",   # Text file listing keywords\n",
        "    model_knowledge_graph=\"networkx\",       # Options: \"neo4j\", \"networkx\"\n",
        "    credentials_for_knowledge_graph=\"external/input/neo4j.json\",  # Graph DB credentials\n",
        "    output_dir=\"external/output/\"                 # Output directory\n",
        ")\n"
      ]
    },
    {
      "cell_type": "markdown",
      "id": "4861e3e0",
      "metadata": {},
      "source": [
        "### 🚀 Run the Full SOKEGraph Pipeline\n",
        "\n",
        "After you’ve defined your **`params`** dictionary in a code cell, run the entire pipeline with:"
      ]
    },
    {
      "cell_type": "code",
      "execution_count": null,
      "id": "a5961e46",
      "metadata": {},
      "outputs": [],
      "source": [
        "from sokegraph.core.full_pipeline import full_pipeline_main\n",
        "\n",
        "full_pipeline_main(params)"
      ]
    },
    {
      "cell_type": "markdown",
      "id": "f1ebc0b4",
      "metadata": {},
      "source": [
        "### ✅ What Happens Under the Hood\n",
        "\n",
        "#### 📄 Paper Retrieval\n",
        "Fetches papers using one of three sources:\n",
        "- **Semantic Scholar**: Based on search queries (`paper_query_file`, `number_papers`)\n",
        "- **PDF Zip**: Loads papers from a local ZIP file (`pdfs_file`)\n",
        "- **Journal API**: Queries the Web of Science Journal API (requires `api_key_file`)\n",
        "\n",
        "#### 🧠 Ontology Enrichment\n",
        "Uses your selected AI model (`AI = \"openAI\"`, `\"gemini\"`, `\"llama\"`, `\"ollama\"`, or `\"claude\"`) to enhance the base ontology with:\n",
        "- New concepts  \n",
        "- Keywords and synonyms  \n",
        "- Topic structures\n",
        "\n",
        "#### 📊 Paper Ranking\n",
        "Ranks papers using:\n",
        "- Keyword match scores (from `keyword_query_file`)  \n",
        "- AI-generated semantic relevance  \n",
        "- Filtering based on contradictory or unrelated terms  \n",
        "\n",
        "#### 🕸 Knowledge Graph Construction\n",
        "Builds a knowledge graph using either:\n",
        "- **Neo4j**: Connects via `credentials_for_knowledge_graph`\n",
        "- **NetworkX**: In-memory graph for lightweight analysis\n",
        "\n",
        "Graphs include:\n",
        "- Ontology layers and categories  \n",
        "- Concept-paper links  \n",
        "- Keyword and metadata connections  \n",
        "\n",
        "#### 💾 Output Saving\n",
        "All outputs are saved to your defined `output_dir`, including:\n",
        "- Enriched ontology file  \n",
        "- Ranked paper list (CSV/JSON)  \n",
        "- Logs and graph data  \n",
        "\n",
        "> 💡 **Tip:** Double-check that all file paths in your `params` are valid and that services like **Neo4j**, **Ollama**, or your Journal API access are available before starting the pipeline."
      ]
    }
  ],
  "metadata": {
    "colab": {
      "include_colab_link": true,
      "provenance": []
    },
    "kernelspec": {
      "display_name": "sokegraph",
      "language": "python",
      "name": "python3"
    },
    "language_info": {
      "codemirror_mode": {
        "name": "ipython",
        "version": 3
      },
      "file_extension": ".py",
      "mimetype": "text/x-python",
      "name": "python",
      "nbconvert_exporter": "python",
      "pygments_lexer": "ipython3",
      "version": "3.9.23"
    }
  },
  "nbformat": 4,
  "nbformat_minor": 5
}
