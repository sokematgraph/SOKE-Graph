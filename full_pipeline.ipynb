{
  "cells": [
    {
      "cell_type": "markdown",
      "id": "6794a3c1",
      "metadata": {},
      "source": [
        "<a href=\"https://colab.research.google.com/github/sanakashgouli/SOKEGraph/blob/main/full_pipeline.ipynb\" target=\"_parent\"><img src=\"https://colab.research.google.com/assets/colab-badge.svg\" alt=\"Open In Colab\"/></a>"
      ]
    },
    {
      "cell_type": "markdown",
      "id": "0575c78a",
      "metadata": {
        "id": "0575c78a"
      },
      "source": [
        "# Import Required Modules and Classes\n",
        "\n",
        "This block imports all the necessary modules and classes from the `sokegraph` package and other dependencies. These components provide core functionalities such as:\n",
        "\n",
        "- Paper sources (retrieving papers from Semantic Scholar or PDFs)\n",
        "- Paper ranking logic\n",
        "- Knowledge graph management\n",
        "- AI agents (OpenAI, Gemini, Llama)\n",
        "- Ontology updating utilities\n",
        "- Logging utilities\n",
        "- Neo4j knowledge graph interface\n",
        "- JSON handling\n",
        "\n",
        "These imports set up the environment for later steps like fetching papers, ranking them, updating ontologies, and building the knowledge graph.\n"
      ]
    },
    {
      "cell_type": "code",
      "execution_count": 1,
      "id": "d48c387b",
      "metadata": {
        "id": "d48c387b"
      },
      "outputs": [
        {
          "name": "stderr",
          "output_type": "stream",
          "text": [
            "2025-06-20 14:47:44,119 [INFO ]\tsokegraph v1.1\n",
            "2025-06-20 14:47:44,119 [INFO ]\tipykernel_launcher.py --f=/Users/shahlla/Library/Jupyter/runtime/kernel-v3ab8ec5f36161de32ab8df9445dd72f9685bab1f9.json\n"
          ]
        }
      ],
      "source": [
        "from sokegraph.base_paper_source import BasePaperSource\n",
        "from sokegraph.semantic_scholar_source import SemanticScholarPaperSource\n",
        "from sokegraph.pdf_paper_source import PDFPaperSource\n",
        "from sokegraph.paper_ranker import PaperRanker\n",
        "from sokegraph.knowledge_graph import KnowledgeGraph\n",
        "from sokegraph.util.logger import LOG\n",
        "from sokegraph.ai_agent import AIAgent\n",
        "from sokegraph.openai_agent import OpenAIAgent\n",
        "from sokegraph.gemini_agent import GeminiAgent\n",
        "from sokegraph.ontology_updater import OntologyUpdater\n",
        "from sokegraph.neo4j_knowledge_graph import Neo4jKnowledgeGraph\n",
        "from sokegraph.llama_agent import LlamaAgent\n",
        "import json"
      ]
    },
    {
      "cell_type": "markdown",
      "id": "88f6c68a",
      "metadata": {
        "id": "88f6c68a"
      },
      "source": [
        "# Initialize and Display the User Interface\n",
        "\n",
        "- The `SOKEGraphUI` class is imported from the `ui_inputs` module.\n",
        "- An instance of `SOKEGraphUI` is created and assigned to `ui`.\n",
        "- The `display_ui()` method is called to render the interactive user interface.\n",
        "\n",
        "> **Note:**  \n",
        "> If you make changes to `ui_inputs.py`, you might need to uncomment the `importlib.reload` lines to reload the module without restarting the notebook.\n"
      ]
    },
    {
      "cell_type": "code",
      "execution_count": null,
      "id": "9c16b2d7",
      "metadata": {
        "id": "9c16b2d7"
      },
      "outputs": [
        {
          "data": {
            "application/vnd.jupyter.widget-view+json": {
              "model_id": "6d32bf4e847d445b970da1a9712f9f12",
              "version_major": 2,
              "version_minor": 0
            },
            "text/plain": [
              "VBox(children=(Dropdown(description='Paper Input Type:', options=('Select Option', 'Number of Papers', 'PDF Zi…"
            ]
          },
          "metadata": {},
          "output_type": "display_data"
        }
      ],
      "source": [
        "#import importlib\n",
        "#import sokegraph.ui_inputs\n",
        "#importlib.reload(sokegraph.ui_inputs)\n",
        "from sokegraph.ui_inputs import SOKEGraphUI\n",
        "\n",
        "\n",
        "# Create UI instance\n",
        "ui = SOKEGraphUI()\n",
        "\n",
        "# Display the UI in the notebook\n",
        "ui.display_ui()\n"
      ]
    },
    {
      "cell_type": "code",
      "execution_count": null,
      "id": "19306ce7",
      "metadata": {},
      "outputs": [
        {
          "name": "stdout",
          "output_type": "stream",
          "text": [
            "🧾 Full JSON response:\n",
            "{'model': 'llama3', 'created_at': '2025-06-19T17:15:33.805139Z', 'response': \"The law of gravity! It's a fundamental concept in physics that explains how objects interact with each other.\\n\\nIn simple terms, the law of gravity states:\\n\\n**Every object in the universe attracts every other object with a force proportional to their mass and distance between them.**\\n\\nHere's what this means:\\n\\n1. **Mass**: The more massive an object is (like a planet or a car), the stronger its gravitational pull will be.\\n2. **Distance**: As objects get farther apart, the gravitational force between them gets weaker.\\n\\nTo illustrate this, imagine you have a ball and a friend who is standing 5 feet away from you. If your friend has a small amount of mass (like a feather), the gravitational force between you and them would be very weak. But if they had a large amount of mass (like a bowling ball), the gravitational force would be much stronger.\\n\\nIn fact, that's why planets orbit around stars: the massive star exerts a strong gravitational pull on the planet, keeping it in its orbit. And that's also why you don't float off into space when you're standing on Earth – the Earth's mass is pulling you towards it with a force we call gravity!\\n\\nThat's the basic idea behind the law of gravity!\", 'done': True, 'done_reason': 'stop', 'context': [128006, 882, 128007, 271, 849, 21435, 279, 2383, 315, 24128, 5042, 13, 128009, 128006, 78191, 128007, 271, 791, 2383, 315, 24128, 0, 1102, 596, 264, 16188, 7434, 304, 22027, 430, 15100, 1268, 6302, 16681, 449, 1855, 1023, 382, 644, 4382, 3878, 11, 279, 2383, 315, 24128, 5415, 1473, 334, 11769, 1665, 304, 279, 15861, 61191, 1475, 1023, 1665, 449, 264, 5457, 55272, 311, 872, 3148, 323, 6138, 1990, 1124, 13, 57277, 8586, 596, 1148, 420, 3445, 1473, 16, 13, 3146, 26909, 96618, 578, 810, 11191, 459, 1665, 374, 320, 4908, 264, 11841, 477, 264, 1841, 705, 279, 16643, 1202, 71019, 6958, 690, 387, 627, 17, 13, 3146, 15121, 96618, 1666, 6302, 636, 43726, 10980, 11, 279, 71019, 5457, 1990, 1124, 5334, 43383, 382, 1271, 41468, 420, 11, 13085, 499, 617, 264, 5041, 323, 264, 4333, 889, 374, 11509, 220, 20, 7693, 3201, 505, 499, 13, 1442, 701, 4333, 706, 264, 2678, 3392, 315, 3148, 320, 4908, 264, 50876, 705, 279, 71019, 5457, 1990, 499, 323, 1124, 1053, 387, 1633, 7621, 13, 2030, 422, 814, 1047, 264, 3544, 3392, 315, 3148, 320, 4908, 264, 59296, 5041, 705, 279, 71019, 5457, 1053, 387, 1790, 16643, 382, 644, 2144, 11, 430, 596, 3249, 33975, 27605, 2212, 9958, 25, 279, 11191, 6917, 506, 15916, 264, 3831, 71019, 6958, 389, 279, 11841, 11, 10494, 433, 304, 1202, 27605, 13, 1628, 430, 596, 1101, 3249, 499, 1541, 956, 2273, 1022, 1139, 3634, 994, 499, 2351, 11509, 389, 9420, 1389, 279, 9420, 596, 3148, 374, 23062, 499, 7119, 433, 449, 264, 5457, 584, 1650, 24128, 2268, 4897, 596, 279, 6913, 4623, 4920, 279, 2383, 315, 24128, 0], 'total_duration': 39474930709, 'load_duration': 12910599750, 'prompt_eval_count': 18, 'prompt_eval_duration': 9260000000, 'eval_count': 254, 'eval_duration': 17300000000}\n"
          ]
        }
      ],
      "source": [
        "import requests\n",
        "\n",
        "response = requests.post(\n",
        "    'http://localhost:11434/api/generate',\n",
        "    json={\n",
        "        \"model\": \"llama3\",  # Make sure this model is pulled: `ollama pull llama3`\n",
        "        \"prompt\": \"Explain the law of gravity simply.\",\n",
        "        \"stream\": False\n",
        "    }\n",
        ")\n",
        "\n",
        "# Print the entire JSON response to debug\n",
        "print(\"🧾 Full JSON response:\")\n",
        "print(response.json())\n"
      ]
    },
    {
      "cell_type": "code",
      "execution_count": null,
      "id": "dde2c70a",
      "metadata": {},
      "outputs": [
        {
          "name": "stdout",
          "output_type": "stream",
          "text": [
            "🧾 Full JSON response:\n",
            "{'model': 'llama3', 'created_at': '2025-06-19T17:15:33.805139Z', 'response': \"The law of gravity! It's a fundamental concept in physics that explains how objects interact with each other.\\n\\nIn simple terms, the law of gravity states:\\n\\n**Every object in the universe attracts every other object with a force proportional to their mass and distance between them.**\\n\\nHere's what this means:\\n\\n1. **Mass**: The more massive an object is (like a planet or a car), the stronger its gravitational pull will be.\\n2. **Distance**: As objects get farther apart, the gravitational force between them gets weaker.\\n\\nTo illustrate this, imagine you have a ball and a friend who is standing 5 feet away from you. If your friend has a small amount of mass (like a feather), the gravitational force between you and them would be very weak. But if they had a large amount of mass (like a bowling ball), the gravitational force would be much stronger.\\n\\nIn fact, that's why planets orbit around stars: the massive star exerts a strong gravitational pull on the planet, keeping it in its orbit. And that's also why you don't float off into space when you're standing on Earth – the Earth's mass is pulling you towards it with a force we call gravity!\\n\\nThat's the basic idea behind the law of gravity!\", 'done': True, 'done_reason': 'stop', 'context': [128006, 882, 128007, 271, 849, 21435, 279, 2383, 315, 24128, 5042, 13, 128009, 128006, 78191, 128007, 271, 791, 2383, 315, 24128, 0, 1102, 596, 264, 16188, 7434, 304, 22027, 430, 15100, 1268, 6302, 16681, 449, 1855, 1023, 382, 644, 4382, 3878, 11, 279, 2383, 315, 24128, 5415, 1473, 334, 11769, 1665, 304, 279, 15861, 61191, 1475, 1023, 1665, 449, 264, 5457, 55272, 311, 872, 3148, 323, 6138, 1990, 1124, 13, 57277, 8586, 596, 1148, 420, 3445, 1473, 16, 13, 3146, 26909, 96618, 578, 810, 11191, 459, 1665, 374, 320, 4908, 264, 11841, 477, 264, 1841, 705, 279, 16643, 1202, 71019, 6958, 690, 387, 627, 17, 13, 3146, 15121, 96618, 1666, 6302, 636, 43726, 10980, 11, 279, 71019, 5457, 1990, 1124, 5334, 43383, 382, 1271, 41468, 420, 11, 13085, 499, 617, 264, 5041, 323, 264, 4333, 889, 374, 11509, 220, 20, 7693, 3201, 505, 499, 13, 1442, 701, 4333, 706, 264, 2678, 3392, 315, 3148, 320, 4908, 264, 50876, 705, 279, 71019, 5457, 1990, 499, 323, 1124, 1053, 387, 1633, 7621, 13, 2030, 422, 814, 1047, 264, 3544, 3392, 315, 3148, 320, 4908, 264, 59296, 5041, 705, 279, 71019, 5457, 1053, 387, 1790, 16643, 382, 644, 2144, 11, 430, 596, 3249, 33975, 27605, 2212, 9958, 25, 279, 11191, 6917, 506, 15916, 264, 3831, 71019, 6958, 389, 279, 11841, 11, 10494, 433, 304, 1202, 27605, 13, 1628, 430, 596, 1101, 3249, 499, 1541, 956, 2273, 1022, 1139, 3634, 994, 499, 2351, 11509, 389, 9420, 1389, 279, 9420, 596, 3148, 374, 23062, 499, 7119, 433, 449, 264, 5457, 584, 1650, 24128, 2268, 4897, 596, 279, 6913, 4623, 4920, 279, 2383, 315, 24128, 0], 'total_duration': 39474930709, 'load_duration': 12910599750, 'prompt_eval_count': 18, 'prompt_eval_duration': 9260000000, 'eval_count': 254, 'eval_duration': 17300000000}\n"
          ]
        }
      ],
      "source": [
        "import requests\n",
        "\n",
        "response = requests.post(\n",
        "    'http://localhost:11434/api/generate',\n",
        "    json={\n",
        "        \"model\": \"llama3\",  # Make sure this model is pulled: `ollama pull llama3`\n",
        "        \"prompt\": \"Explain the law of gravity simply.\",\n",
        "        \"stream\": False\n",
        "    }\n",
        ")\n",
        "\n",
        "# Print the entire JSON response to debug\n",
        "print(\"🧾 Full JSON response:\")\n",
        "print(response.json())\n"
      ]
    },
    {
      "cell_type": "markdown",
      "id": "9d08e6b9",
      "metadata": {
        "id": "9d08e6b9"
      },
      "source": [
        "## Step 0: Setup AI Agent\n",
        "\n",
        "- Logs the start of the full pipeline.\n",
        "- Selects and initializes the AI agent based on the user interface (UI) parameter `AI`.\n",
        "- Supports three AI providers:\n",
        "  - `openAI` initializes an `OpenAIAgent` with the API keys file.\n",
        "  - `gemini` initializes a `GeminiAgent` with the API keys file.\n",
        "  - `llama` initializes a `LlamaAgent` with the API keys file.\n",
        "- Raises an error if an unsupported AI provider is selected.\n",
        "\n",
        "> **Note:**  \n",
        "> Ensure that the API keys file path provided via `ui.params.api_keys_file` is correct and contains valid credentials for the selected AI provider.\n"
      ]
    },
    {
      "cell_type": "code",
      "execution_count": null,
      "id": "d563fa7c",
      "metadata": {
        "id": "d563fa7c"
      },
      "outputs": [],
      "source": [
        "LOG.info(\"🚀 Starting Full Pipeline\")\n",
        "\n",
        "# 0. Setup AI agent\n",
        "ai_tool: AIAgent\n",
        "if ui.params.AI == \"openAI\":\n",
        "    ai_tool = OpenAIAgent(ui.params.api_keys_file)\n",
        "elif ui.params.AI == \"gemini\":\n",
        "    ai_tool = GeminiAgent(ui.params.api_keys_file)\n",
        "elif ui.params.AI == \"llama\":\n",
        "    ai_tool = LlamaAgent(ui.params.api_keys_file)\n",
        "else:\n",
        "    raise ValueError(f\"Unsupported AI provider: {ui.params.AI}\")"
      ]
    },
    {
      "cell_type": "markdown",
      "id": "413384bf",
      "metadata": {
        "id": "413384bf"
      },
      "source": [
        "## Step 1: Select Paper Source\n",
        "\n",
        "- Based on user input, select the source for retrieving papers:\n",
        "  - If the user specifies `number_papers` and provides a query file (`paper_query_file`), papers are fetched from **Semantic Scholar** using the `SemanticScholarPaperSource` class.\n",
        "  - If the user provides a ZIP file containing PDFs (`pdfs_file`) without specifying `number_papers`, papers are fetched from the PDFs using the `PDFPaperSource` class.\n",
        "- Logs errors if:\n",
        "  - The required query file is missing when using Semantic Scholar.\n",
        "  - Both or neither `number_papers` and `pdfs_file` are specified.\n",
        "- Finally, fetches papers from the selected source by calling `fetch_papers()`.\n",
        "\n",
        "> **Important:**  \n",
        "> - Make sure to specify either the number of papers and a query file **or** a PDF ZIP file, but not both.\n",
        "> - The `fetch_papers()` method returns a list of paper metadata dictionaries.\n"
      ]
    },
    {
      "cell_type": "code",
      "execution_count": null,
      "id": "49f761ca",
      "metadata": {
        "id": "49f761ca"
      },
      "outputs": [],
      "source": [
        "# 1. Select paper source\n",
        "paper_source: BasePaperSource\n",
        "if ui.params.number_papers and not ui.params.pdf_zip:\n",
        "    if not ui.params.paper_query_file:\n",
        "        LOG.error(\"❌ paper_query_file is required when using number_papers.\")\n",
        "    paper_source = SemanticScholarPaperSource(\n",
        "        num_papers=int(ui.params.number_papers),\n",
        "        query_file=ui.params.paper_query_file,\n",
        "        output_dir=ui.params.output_dir\n",
        "    )\n",
        "elif ui.params.pdfs_file and not ui.params.number_papers:\n",
        "    paper_source = PDFPaperSource(\n",
        "        zip_path=ui.params.pdfs_file,\n",
        "        output_dir=ui.params.output_dir\n",
        "    )\n",
        "else:\n",
        "    LOG.error(\"❌ Please specify either number_papers or pdfs_file, but not both.\")\n",
        "\n",
        "\n",
        "papers = paper_source.fetch_papers()"
      ]
    },
    {
      "cell_type": "markdown",
      "id": "2ea17bb4",
      "metadata": {
        "id": "2ea17bb4"
      },
      "source": [
        "## Step 2: Update Ontology Using Retrieved Papers\n",
        "\n",
        "- Create an instance of `OntologyUpdater`, which enriches the ontology file using:\n",
        "  - The retrieved papers,\n",
        "  - The selected AI tool (`ai_tool`),\n",
        "  - The output directory for saving results.\n",
        "- The ontology file (`ontology_file`) contains a structured hierarchy of materials science concepts.\n",
        "- Calls `enrich_with_papers()` to extract relevant concepts and keywords from the papers and integrate them into the ontology.\n",
        "\n",
        "> **What this step does:**\n",
        "> - Associates papers with ontology categories by analyzing their content using an LLM agent.\n",
        "> - Produces structured `ontology_extractions` used for graph construction and ranking in later steps.\n"
      ]
    },
    {
      "cell_type": "code",
      "execution_count": null,
      "id": "6070a6a9",
      "metadata": {
        "id": "6070a6a9"
      },
      "outputs": [],
      "source": [
        "# 2. Update ontology\n",
        "ontology_updater = OntologyUpdater(ui.params.ontology_file, papers, ai_tool, ui.params.output_dir)  # or however you instantiate it\n",
        "ontology_extractions = ontology_updater.enrich_with_papers()"
      ]
    },
    {
      "cell_type": "markdown",
      "id": "889b03d6",
      "metadata": {
        "id": "889b03d6"
      },
      "source": [
        "## Step 3: Rank Papers Based on Ontology and Keywords\n",
        "\n",
        "- Instantiate the `PaperRanker` with:\n",
        "  - The selected AI tool (`ai_tool`)\n",
        "  - The list of fetched papers\n",
        "  - The enriched ontology output file (`ontology_updater.output_path`)\n",
        "  - A keyword file containing user-defined or domain-relevant keywords\n",
        "  - The output directory for storing results\n",
        "\n",
        "- Call `rank_papers()` to:\n",
        "  - Match papers to relevant ontology categories using keywords\n",
        "  - Score and rank papers based on how well they align with the user’s interests\n",
        "  - Optionally filter out papers dominated by **opposite concepts** (e.g., if a paper mentions “insulator” often when you are looking for “conductor”)\n",
        "\n",
        "> **What this step does:**\n",
        "> - Produces a ranked list of relevant papers\n",
        "> - Generates visual summaries and a CSV of shared ontology category overlaps\n"
      ]
    },
    {
      "cell_type": "code",
      "execution_count": null,
      "id": "cdd6e5eb",
      "metadata": {
        "id": "cdd6e5eb"
      },
      "outputs": [],
      "source": [
        "# 3. Rank papers\n",
        "#LOG.info(\"ranking papers ....\")\n",
        "ranker = PaperRanker(ai_tool, papers, ontology_updater.output_path, ui.params.keywords_file, ui.params.output_dir)\n",
        "rank_paper_output = ranker.rank_papers()"
      ]
    },
    {
      "cell_type": "markdown",
      "id": "ce951e6e",
      "metadata": {
        "id": "ce951e6e"
      },
      "source": [
        "## Step 4: Build the Knowledge Graph\n",
        "\n",
        "This step constructs a **knowledge graph** from the updated ontology, allowing for structured querying and visualization of relationships between materials, methods, and properties.\n",
        "\n",
        "### What happens here:\n",
        "- Credentials for the target graph database (e.g., Neo4j) are loaded from a JSON file.\n",
        "- A `KnowledgeGraph` builder is instantiated (e.g., `Neo4jKnowledgeGraph`) using:\n",
        "  - The enriched ontology file (`updated_ontology.json`)\n",
        "  - Connection details to the Neo4j server (URI, username, password)\n",
        "- The `.build_graph()` method builds the actual graph in the database.\n",
        "\n",
        "> ✅ **Result**: A graph database containing categorized concepts and their relationships, ready for exploration or reasoning tasks.\n",
        "\n",
        "---\n",
        "\n",
        "🎉 **The full pipeline is now complete!** You’ve fetched papers, enriched the ontology, ranked relevant publications, and built a graph-based representation of your domain knowledge.\n"
      ]
    },
    {
      "cell_type": "code",
      "execution_count": null,
      "id": "066db0ae",
      "metadata": {
        "id": "066db0ae"
      },
      "outputs": [],
      "source": [
        "# 4. Build knowledge graph\n",
        "LOG.info(\" Building knowledge graph ....\")\n",
        "### load\n",
        "with open(ui.params.kg_credentials_file, \"r\") as f:\n",
        "    credentials = json.load(f)\n",
        "\n",
        "#### build graph\n",
        "graph_builder: KnowledgeGraph\n",
        "if(ui.params.kg_type == \"neo4j\"):\n",
        "    graph_builder = Neo4jKnowledgeGraph(f\"{ui.params.output_dir}/updated_ontology.json\",\n",
        "                                        credentials[\"neo4j_uri\"],\n",
        "                                        credentials[\"neo4j_user\"],\n",
        "                                        credentials[\"neo4j_pass\"])\n",
        "\n",
        "graph_builder.build_graph()\n",
        "\n",
        "\n",
        "LOG.info(\"🎉 Pipeline Completed Successfully\")"
      ]
    }
  ],
  "metadata": {
    "colab": {
      "include_colab_link": true,
      "provenance": []
    },
    "kernelspec": {
      "display_name": "sokegraph",
      "language": "python",
      "name": "python3"
    },
    "language_info": {
      "codemirror_mode": {
        "name": "ipython",
        "version": 3
      },
      "file_extension": ".py",
      "mimetype": "text/x-python",
      "name": "python",
      "nbconvert_exporter": "python",
      "pygments_lexer": "ipython3",
      "version": "3.9.23"
    }
  },
  "nbformat": 4,
  "nbformat_minor": 5
}
